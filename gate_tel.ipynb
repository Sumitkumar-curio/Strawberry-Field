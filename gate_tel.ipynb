{
 "cells": [
  {
   "cell_type": "code",
   "execution_count": 2,
   "metadata": {},
   "outputs": [
    {
     "name": "stdout",
     "output_type": "stream",
     "text": [
      "Collecting strawberryfields\n",
      "  Using cached StrawberryFields-0.23.0-py3-none-any.whl.metadata (7.6 kB)\n",
      "Requirement already satisfied: networkx>=2.0 in c:\\users\\sumit\\miniconda3\\envs\\cwa\\lib\\site-packages (from strawberryfields) (3.3)\n",
      "Collecting numba (from strawberryfields)\n",
      "  Using cached numba-0.60.0-cp312-cp312-win_amd64.whl.metadata (2.8 kB)\n",
      "Requirement already satisfied: numpy>=1.17.4 in c:\\users\\sumit\\miniconda3\\envs\\cwa\\lib\\site-packages (from strawberryfields) (1.26.4)\n",
      "Requirement already satisfied: python-dateutil>=2.8.0 in c:\\users\\sumit\\miniconda3\\envs\\cwa\\lib\\site-packages (from strawberryfields) (2.9.0)\n",
      "Collecting quantum-blackbird>=0.3.0 (from strawberryfields)\n",
      "  Using cached quantum_blackbird-0.5.0-py3-none-any.whl.metadata (4.6 kB)\n",
      "Requirement already satisfied: requests>=2.22.0 in c:\\users\\sumit\\miniconda3\\envs\\cwa\\lib\\site-packages (from strawberryfields) (2.31.0)\n",
      "Requirement already satisfied: scipy>=1.0.0 in c:\\users\\sumit\\miniconda3\\envs\\cwa\\lib\\site-packages (from strawberryfields) (1.13.0)\n",
      "Requirement already satisfied: sympy>=1.5 in c:\\users\\sumit\\miniconda3\\envs\\cwa\\lib\\site-packages (from strawberryfields) (1.12)\n",
      "Collecting thewalrus>=0.18.0 (from strawberryfields)\n",
      "  Using cached thewalrus-0.21.0-py3-none-any.whl.metadata (6.2 kB)\n",
      "Requirement already satisfied: toml in c:\\users\\sumit\\miniconda3\\envs\\cwa\\lib\\site-packages (from strawberryfields) (0.10.2)\n",
      "Requirement already satisfied: urllib3>=1.25.3 in c:\\users\\sumit\\miniconda3\\envs\\cwa\\lib\\site-packages (from strawberryfields) (2.2.1)\n",
      "Collecting quantum-xir>=0.1.1 (from strawberryfields)\n",
      "  Using cached quantum_xir-0.2.2-py3-none-any.whl.metadata (4.1 kB)\n",
      "Collecting xanadu-cloud-client>=0.2.1 (from strawberryfields)\n",
      "  Using cached xanadu_cloud_client-0.3.2-py3-none-any.whl.metadata (8.3 kB)\n",
      "Requirement already satisfied: six>=1.5 in c:\\users\\sumit\\miniconda3\\envs\\cwa\\lib\\site-packages (from python-dateutil>=2.8.0->strawberryfields) (1.16.0)\n",
      "Collecting antlr4-python3-runtime==4.9.2 (from quantum-blackbird>=0.3.0->strawberryfields)\n",
      "  Using cached antlr4_python3_runtime-4.9.2-py3-none-any.whl\n",
      "Collecting lark-parser>=0.11.0 (from quantum-xir>=0.1.1->strawberryfields)\n",
      "  Using cached lark_parser-0.12.0-py2.py3-none-any.whl.metadata (1.7 kB)\n",
      "Requirement already satisfied: charset-normalizer<4,>=2 in c:\\users\\sumit\\miniconda3\\envs\\cwa\\lib\\site-packages (from requests>=2.22.0->strawberryfields) (3.3.2)\n",
      "Requirement already satisfied: idna<4,>=2.5 in c:\\users\\sumit\\miniconda3\\envs\\cwa\\lib\\site-packages (from requests>=2.22.0->strawberryfields) (3.7)\n",
      "Requirement already satisfied: certifi>=2017.4.17 in c:\\users\\sumit\\miniconda3\\envs\\cwa\\lib\\site-packages (from requests>=2.22.0->strawberryfields) (2024.2.2)\n",
      "Requirement already satisfied: mpmath>=0.19 in c:\\users\\sumit\\miniconda3\\envs\\cwa\\lib\\site-packages (from sympy>=1.5->strawberryfields) (1.3.0)\n",
      "Collecting dask[delayed] (from thewalrus>=0.18.0->strawberryfields)\n",
      "  Using cached dask-2024.10.0-py3-none-any.whl.metadata (3.7 kB)\n",
      "Collecting llvmlite<0.44,>=0.43.0dev0 (from numba->strawberryfields)\n",
      "  Using cached llvmlite-0.43.0-cp312-cp312-win_amd64.whl.metadata (4.9 kB)\n",
      "Requirement already satisfied: appdirs in c:\\users\\sumit\\miniconda3\\envs\\cwa\\lib\\site-packages (from xanadu-cloud-client>=0.2.1->strawberryfields) (1.4.4)\n",
      "Collecting fire (from xanadu-cloud-client>=0.2.1->strawberryfields)\n",
      "  Using cached fire-0.7.0-py3-none-any.whl\n",
      "Requirement already satisfied: pydantic>=2 in c:\\users\\sumit\\miniconda3\\envs\\cwa\\lib\\site-packages (from xanadu-cloud-client>=0.2.1->strawberryfields) (2.7.0)\n",
      "Collecting pydantic-settings (from xanadu-cloud-client>=0.2.1->strawberryfields)\n",
      "  Using cached pydantic_settings-2.6.0-py3-none-any.whl.metadata (3.5 kB)\n",
      "Collecting python-dotenv (from xanadu-cloud-client>=0.2.1->strawberryfields)\n",
      "  Using cached python_dotenv-1.0.1-py3-none-any.whl.metadata (23 kB)\n",
      "Requirement already satisfied: annotated-types>=0.4.0 in c:\\users\\sumit\\miniconda3\\envs\\cwa\\lib\\site-packages (from pydantic>=2->xanadu-cloud-client>=0.2.1->strawberryfields) (0.6.0)\n",
      "Requirement already satisfied: pydantic-core==2.18.1 in c:\\users\\sumit\\miniconda3\\envs\\cwa\\lib\\site-packages (from pydantic>=2->xanadu-cloud-client>=0.2.1->strawberryfields) (2.18.1)\n",
      "Requirement already satisfied: typing-extensions>=4.6.1 in c:\\users\\sumit\\miniconda3\\envs\\cwa\\lib\\site-packages (from pydantic>=2->xanadu-cloud-client>=0.2.1->strawberryfields) (4.11.0)\n",
      "Collecting click>=8.1 (from dask[delayed]->thewalrus>=0.18.0->strawberryfields)\n",
      "  Using cached click-8.1.7-py3-none-any.whl.metadata (3.0 kB)\n",
      "Collecting cloudpickle>=3.0.0 (from dask[delayed]->thewalrus>=0.18.0->strawberryfields)\n",
      "  Using cached cloudpickle-3.1.0-py3-none-any.whl.metadata (7.0 kB)\n",
      "Requirement already satisfied: fsspec>=2021.09.0 in c:\\users\\sumit\\miniconda3\\envs\\cwa\\lib\\site-packages (from dask[delayed]->thewalrus>=0.18.0->strawberryfields) (2024.3.1)\n",
      "Requirement already satisfied: packaging>=20.0 in c:\\users\\sumit\\miniconda3\\envs\\cwa\\lib\\site-packages (from dask[delayed]->thewalrus>=0.18.0->strawberryfields) (24.0)\n",
      "Collecting partd>=1.4.0 (from dask[delayed]->thewalrus>=0.18.0->strawberryfields)\n",
      "  Using cached partd-1.4.2-py3-none-any.whl.metadata (4.6 kB)\n",
      "Collecting pyyaml>=5.3.1 (from dask[delayed]->thewalrus>=0.18.0->strawberryfields)\n",
      "  Using cached PyYAML-6.0.2-cp312-cp312-win_amd64.whl.metadata (2.1 kB)\n",
      "Collecting toolz>=0.10.0 (from dask[delayed]->thewalrus>=0.18.0->strawberryfields)\n",
      "  Using cached toolz-1.0.0-py3-none-any.whl.metadata (5.1 kB)\n",
      "Requirement already satisfied: termcolor in c:\\users\\sumit\\miniconda3\\envs\\cwa\\lib\\site-packages (from fire->xanadu-cloud-client>=0.2.1->strawberryfields) (2.4.0)\n",
      "Requirement already satisfied: colorama in c:\\users\\sumit\\miniconda3\\envs\\cwa\\lib\\site-packages (from click>=8.1->dask[delayed]->thewalrus>=0.18.0->strawberryfields) (0.4.6)\n",
      "Collecting locket (from partd>=1.4.0->dask[delayed]->thewalrus>=0.18.0->strawberryfields)\n",
      "  Using cached locket-1.0.0-py2.py3-none-any.whl.metadata (2.8 kB)\n",
      "Using cached StrawberryFields-0.23.0-py3-none-any.whl (4.9 MB)\n",
      "Using cached quantum_blackbird-0.5.0-py3-none-any.whl (48 kB)\n",
      "Using cached quantum_xir-0.2.2-py3-none-any.whl (27 kB)\n",
      "Using cached thewalrus-0.21.0-py3-none-any.whl (94 kB)\n",
      "Using cached numba-0.60.0-cp312-cp312-win_amd64.whl (2.7 MB)\n",
      "Using cached xanadu_cloud_client-0.3.2-py3-none-any.whl (25 kB)\n",
      "Using cached lark_parser-0.12.0-py2.py3-none-any.whl (103 kB)\n",
      "Using cached llvmlite-0.43.0-cp312-cp312-win_amd64.whl (28.1 MB)\n",
      "Using cached pydantic_settings-2.6.0-py3-none-any.whl (28 kB)\n",
      "Using cached python_dotenv-1.0.1-py3-none-any.whl (19 kB)\n",
      "Using cached click-8.1.7-py3-none-any.whl (97 kB)\n",
      "Using cached cloudpickle-3.1.0-py3-none-any.whl (22 kB)\n",
      "Using cached partd-1.4.2-py3-none-any.whl (18 kB)\n",
      "Using cached PyYAML-6.0.2-cp312-cp312-win_amd64.whl (156 kB)\n",
      "Using cached toolz-1.0.0-py3-none-any.whl (56 kB)\n",
      "Using cached dask-2024.10.0-py3-none-any.whl (1.3 MB)\n",
      "Using cached locket-1.0.0-py2.py3-none-any.whl (4.4 kB)\n",
      "Installing collected packages: lark-parser, antlr4-python3-runtime, toolz, quantum-xir, pyyaml, python-dotenv, locket, llvmlite, fire, cloudpickle, click, quantum-blackbird, partd, numba, pydantic-settings, dask, xanadu-cloud-client, thewalrus, strawberryfields\n",
      "Successfully installed antlr4-python3-runtime-4.9.2 click-8.1.7 cloudpickle-3.1.0 dask-2024.10.0 fire-0.7.0 lark-parser-0.12.0 llvmlite-0.43.0 locket-1.0.0 numba-0.60.0 partd-1.4.2 pydantic-settings-2.6.0 python-dotenv-1.0.1 pyyaml-6.0.2 quantum-blackbird-0.5.0 quantum-xir-0.2.2 strawberryfields-0.23.0 thewalrus-0.21.0 toolz-1.0.0 xanadu-cloud-client-0.3.2\n"
     ]
    }
   ],
   "source": [
    "!pip install strawberryfields --upgrade\n"
   ]
  },
  {
   "cell_type": "code",
   "execution_count": 3,
   "metadata": {},
   "outputs": [],
   "source": [
    "import strawberryfields as sf"
   ]
  },
  {
   "cell_type": "code",
   "execution_count": 4,
   "metadata": {},
   "outputs": [],
   "source": [
    "from strawberryfields.ops import *"
   ]
  },
  {
   "cell_type": "code",
   "execution_count": 6,
   "metadata": {},
   "outputs": [
    {
     "name": "stdout",
     "output_type": "stream",
     "text": [
      "(array([-3.39419291,  6.79924061]), array([[ 1.11257261, -0.5851662 ],\n",
      "       [-0.5851662 ,  1.20659044]]))\n",
      "(array([-3.54135494,  6.98920789]), array([[ 1.12408144, -0.61070138],\n",
      "       [-0.61070138,  1.22140276]]))\n"
     ]
    }
   ],
   "source": [
    "# initialize engine and program objects\n",
    "eng = sf.Engine(backend=\"gaussian\")\n",
    "gate_teleportation = sf.Program(4)\n",
    "\n",
    "with gate_teleportation.context as q:\n",
    "    # create initial states\n",
    "    Squeezed(0.1) | q[0]\n",
    "    Squeezed(-2)  | q[1]\n",
    "    Squeezed(-2)  | q[2]\n",
    "\n",
    "    # apply the gate to be teleported\n",
    "    Pgate(0.5) | q[1]\n",
    "\n",
    "    # conditional phase entanglement\n",
    "    CZgate(1) | (q[0], q[1])\n",
    "    CZgate(1) | (q[1], q[2])\n",
    "\n",
    "    # projective measurement onto\n",
    "    # the position quadrature\n",
    "    Fourier.H | q[0]\n",
    "    MeasureX | q[0]\n",
    "    Fourier.H | q[1]\n",
    "    MeasureX | q[1]\n",
    "    # compare against the expected output\n",
    "    # X(q1/sqrt(2)).F.P(0.5).X(q0/sqrt(0.5)).F.|z>\n",
    "    # not including the corrections\n",
    "    Squeezed(0.1)   | q[3]\n",
    "    Fourier         | q[3]\n",
    "    Xgate(q[0].par) | q[3]\n",
    "    Pgate(0.5)      | q[3]\n",
    "    Fourier         | q[3]\n",
    "    Xgate(q[1].par) | q[3]\n",
    "    # end circuit\n",
    "\n",
    "results = eng.run(gate_teleportation)\n",
    "print(results.state.reduced_gaussian([2]))\n",
    "print(results.state.reduced_gaussian([3]))\n"
   ]
  },
  {
   "cell_type": "code",
   "execution_count": 11,
   "metadata": {},
   "outputs": [],
   "source": [
    "import strawberryfields as sf\n",
    "from strawberryfields.ops import *\n",
    "\n",
    "import numpy as np\n",
    "from numpy import pi, sqrt\n",
    "\n",
    "# set the random seed\n",
    "np.random.seed(42)"
   ]
  },
  {
   "cell_type": "code",
   "execution_count": 12,
   "metadata": {},
   "outputs": [],
   "source": [
    "prog = sf.Program(3)"
   ]
  },
  {
   "cell_type": "code",
   "execution_count": 13,
   "metadata": {},
   "outputs": [],
   "source": [
    "alpha = 1+0.5j\n",
    "r = np.abs(alpha)\n",
    "phi = np.angle(alpha)\n",
    "\n",
    "with prog.context as q:\n",
    "    # prepare initial states\n",
    "    Coherent(r, phi) | q[0]\n",
    "    Squeezed(-2) | q[1]\n",
    "    Squeezed(2) | q[2]\n",
    "\n",
    "    # apply gates\n",
    "    BS = BSgate(pi/4, pi)\n",
    "    BS | (q[1], q[2])\n",
    "    BS | (q[0], q[1])\n",
    "\n",
    "    # Perform homodyne measurements\n",
    "    MeasureX | q[0]\n",
    "    MeasureP | q[1]\n",
    "\n",
    "    # Displacement gates conditioned on\n",
    "    # the measurements\n",
    "    Xgate(sqrt(2) * q[0].par) | q[2]\n",
    "    Zgate(-sqrt(2) * q[1].par) | q[2]"
   ]
  },
  {
   "cell_type": "code",
   "execution_count": 14,
   "metadata": {},
   "outputs": [
    {
     "ename": "NameError",
     "evalue": "name 'backend' is not defined",
     "output_type": "error",
     "traceback": [
      "\u001b[1;31m---------------------------------------------------------------------------\u001b[0m",
      "\u001b[1;31mNameError\u001b[0m                                 Traceback (most recent call last)",
      "Cell \u001b[1;32mIn[14], line 1\u001b[0m\n\u001b[1;32m----> 1\u001b[0m sf\u001b[38;5;241m.\u001b[39mEngine(\u001b[43mbackend\u001b[49m, backend_options\u001b[38;5;241m=\u001b[39m{})\n",
      "\u001b[1;31mNameError\u001b[0m: name 'backend' is not defined"
     ]
    }
   ],
   "source": [
    "sf.Engine(backend, backend_options={})"
   ]
  },
  {
   "cell_type": "code",
   "execution_count": 15,
   "metadata": {},
   "outputs": [],
   "source": [
    "eng = sf.Engine('fock', backend_options={\"cutoff_dim\": 15})"
   ]
  },
  {
   "cell_type": "code",
   "execution_count": 16,
   "metadata": {},
   "outputs": [],
   "source": [
    "result = eng.run(prog, shots=1, modes=None, compile_options={})"
   ]
  },
  {
   "cell_type": "code",
   "execution_count": 17,
   "metadata": {},
   "outputs": [
    {
     "name": "stdout",
     "output_type": "stream",
     "text": [
      "[[0.19890199 0.17330173]]\n"
     ]
    }
   ],
   "source": [
    "print(result.samples)"
   ]
  },
  {
   "cell_type": "code",
   "execution_count": 18,
   "metadata": {},
   "outputs": [
    {
     "name": "stdout",
     "output_type": "stream",
     "text": [
      "<FockState: num_modes=3, cutoff=15, pure=False, hbar=2>\n"
     ]
    }
   ],
   "source": [
    "print(result.state)\n",
    "state = result.state"
   ]
  },
  {
   "cell_type": "code",
   "execution_count": 19,
   "metadata": {},
   "outputs": [
    {
     "name": "stdout",
     "output_type": "stream",
     "text": [
      "(15, 15, 15, 15, 15, 15)\n"
     ]
    }
   ],
   "source": [
    "print(state.dm().shape)"
   ]
  },
  {
   "cell_type": "code",
   "execution_count": 20,
   "metadata": {},
   "outputs": [
    {
     "name": "stdout",
     "output_type": "stream",
     "text": [
      "(15, 15)\n"
     ]
    }
   ],
   "source": [
    "rho2 = np.einsum('kkllij->ij', state.dm())\n",
    "print(rho2.shape)"
   ]
  },
  {
   "cell_type": "code",
   "execution_count": 21,
   "metadata": {},
   "outputs": [
    {
     "name": "stdout",
     "output_type": "stream",
     "text": [
      "[3.10694907e-01 3.62467630e-01 2.11807608e-01 8.23802050e-02\n",
      " 2.43874177e-02 5.83556629e-03 1.26776314e-03 2.37656289e-04\n",
      " 8.43934922e-05 1.78787082e-06 1.52342119e-04 1.07036413e-05\n",
      " 3.36055927e-04 1.47426072e-05 1.92773805e-04]\n"
     ]
    }
   ],
   "source": [
    "probs = np.real_if_close(np.diagonal(rho2))\n",
    "print(probs)"
   ]
  },
  {
   "cell_type": "code",
   "execution_count": 22,
   "metadata": {},
   "outputs": [
    {
     "data": {
      "image/png": "[encoded data removed]",
      "text/plain": [
       "<Figure size 640x480 with 1 Axes>"
      ]
     },
     "metadata": {},
     "output_type": "display_data"
    }
   ],
   "source": [
    "from matplotlib import pyplot as plt\n",
    "plt.bar(range(7), probs[:7])\n",
    "plt.xlabel('Fock state')\n",
    "plt.ylabel('Marginal probability')\n",
    "plt.title('Mode 2')\n",
    "plt.show()"
   ]
  },
  {
   "cell_type": "code",
   "execution_count": 23,
   "metadata": {},
   "outputs": [
    {
     "data": {
      "text/plain": [
       "array([3.10694907e-01, 3.62467630e-01, 2.11807608e-01, 8.23802050e-02,\n",
       "       2.43874177e-02, 5.83556629e-03, 1.26776314e-03, 2.37656289e-04,\n",
       "       8.43934922e-05, 1.78787082e-06, 1.52342119e-04, 1.07036413e-05,\n",
       "       3.36055927e-04, 1.47426072e-05, 1.92773805e-04])"
      ]
     },
     "execution_count": 23,
     "metadata": {},
     "output_type": "execute_result"
    }
   ],
   "source": [
    "fock_probs = state.all_fock_probs()\n",
    "fock_probs.shape\n",
    "np.sum(fock_probs, axis=(0,1))"
   ]
  },
  {
   "cell_type": "code",
   "execution_count": null,
   "metadata": {},
   "outputs": [],
   "source": []
  }
 ],
 "metadata": {
  "kernelspec": {
   "display_name": "Python 3",
   "language": "python",
   "name": "python3"
  },
  "language_info": {
   "codemirror_mode": {
    "name": "ipython",
    "version": 3
   },
   "file_extension": ".py",
   "mimetype": "text/x-python",
   "name": "python",
   "nbconvert_exporter": "python",
   "pygments_lexer": "ipython3",
   "version": "3.12.2"
  }
 },
 "nbformat": 4,
 "nbformat_minor": 2
}
